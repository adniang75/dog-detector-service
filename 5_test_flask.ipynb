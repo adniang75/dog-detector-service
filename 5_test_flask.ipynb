{
 "cells": [
  {
   "cell_type": "markdown",
   "metadata": {},
   "source": [
    "## Test Flask App\n",
    "From the another notebook (such as `run_flask.ipynb`), you can run the flask app in a cell and test it from here using python http or `curl` statements.\n",
    "\n",
    "```python\n",
    "# run_flask.ipynb\n",
    "!FLASK_APP=wsgi.py flask run\n",
    "```"
   ]
  },
  {
   "cell_type": "code",
   "execution_count": 2,
   "metadata": {},
   "outputs": [
    {
     "name": "stdout",
     "output_type": "stream",
     "text": [
      "{\n",
      "  \"status\": \"ok\"\n",
      "}\n"
     ]
    }
   ],
   "source": [
    "!curl http://localhost:5000/status"
   ]
  },
  {
   "cell_type": "code",
   "execution_count": 3,
   "metadata": {
    "tags": []
   },
   "outputs": [
    {
     "name": "stdout",
     "output_type": "stream",
     "text": [
      "{\n",
      "  \"detections\": [\n",
      "    {\n",
      "      \"box\": {\n",
      "        \"xMax\": 0.7926251292228699, \n",
      "        \"xMin\": 0.5403242707252502, \n",
      "        \"yMax\": 0.7079343199729919, \n",
      "        \"yMin\": 0.4101075530052185\n",
      "      }, \n",
      "      \"class\": \"Human face\", \n",
      "      \"label\": \"Human face\", \n",
      "      \"score\": 0.7813596725463867\n",
      "    }, \n",
      "    {\n",
      "      \"box\": {\n",
      "        \"xMax\": 0.4774992763996124, \n",
      "        \"xMin\": 0.4261626899242401, \n",
      "        \"yMax\": 0.13110831379890442, \n",
      "        \"yMin\": 0.029688339680433273\n",
      "      }, \n",
      "      \"class\": \"Human face\", \n",
      "      \"label\": \"Human face\", \n",
      "      \"score\": 0.5114285349845886\n",
      "    }, \n",
      "    {\n",
      "      \"box\": {\n",
      "        \"xMax\": 0.9847140312194824, \n",
      "        \"xMin\": 0.06074786186218262, \n",
      "        \"yMax\": 0.9900590181350708, \n",
      "        \"yMin\": 0.23052552342414856\n",
      "      }, \n",
      "      \"class\": \"Man\", \n",
      "      \"label\": \"Man\", \n",
      "      \"score\": 0.4283614456653595\n",
      "    }, \n",
      "    {\n",
      "      \"box\": {\n",
      "        \"xMax\": 0.45724231004714966, \n",
      "        \"xMin\": 0.41279780864715576, \n",
      "        \"yMax\": 0.3953458070755005, \n",
      "        \"yMin\": 0.30720776319503784\n",
      "      }, \n",
      "      \"class\": \"Human face\", \n",
      "      \"label\": \"Human face\", \n",
      "      \"score\": 0.41918355226516724\n",
      "    }, \n",
      "    {\n",
      "      \"box\": {\n",
      "        \"xMax\": 0.8367412090301514, \n",
      "        \"xMin\": 0.4547792375087738, \n",
      "        \"yMax\": 0.4876250922679901, \n",
      "        \"yMin\": 0.2419789731502533\n",
      "      }, \n",
      "      \"class\": \"Hat\", \n",
      "      \"label\": \"Hat\", \n",
      "      \"score\": 0.40064752101898193\n",
      "    }, \n",
      "    {\n",
      "      \"box\": {\n",
      "        \"xMax\": 0.7952231764793396, \n",
      "        \"xMin\": 0.5115777850151062, \n",
      "        \"yMax\": 0.6389894485473633, \n",
      "        \"yMin\": 0.31437504291534424\n",
      "      }, \n",
      "      \"class\": \"Human face\", \n",
      "      \"label\": \"Human face\", \n",
      "      \"score\": 0.3505728542804718\n",
      "    }, \n",
      "    {\n",
      "      \"box\": {\n",
      "        \"xMax\": 0.6772103905677795, \n",
      "        \"xMin\": 0.6218250393867493, \n",
      "        \"yMax\": 0.07940278202295303, \n",
      "        \"yMin\": 0.00838487595319748\n",
      "      }, \n",
      "      \"class\": \"Human face\", \n",
      "      \"label\": \"Human face\", \n",
      "      \"score\": 0.1951446533203125\n",
      "    }, \n",
      "    {\n",
      "      \"box\": {\n",
      "        \"xMax\": 0.4755186438560486, \n",
      "        \"xMin\": 0.39217907190322876, \n",
      "        \"yMax\": 0.4319366216659546, \n",
      "        \"yMin\": 0.3312993049621582\n",
      "      }, \n",
      "      \"class\": \"Clothing\", \n",
      "      \"label\": \"Clothing\", \n",
      "      \"score\": 0.1851968765258789\n",
      "    }, \n",
      "    {\n",
      "      \"box\": {\n",
      "        \"xMax\": 0.4774992763996124, \n",
      "        \"xMin\": 0.4261626899242401, \n",
      "        \"yMax\": 0.13110831379890442, \n",
      "        \"yMin\": 0.029688339680433273\n",
      "      }, \n",
      "      \"class\": \"Person\", \n",
      "      \"label\": \"Person\", \n",
      "      \"score\": 0.16392943263053894\n",
      "    }, \n",
      "    {\n",
      "      \"box\": {\n",
      "        \"xMax\": 0.8367412090301514, \n",
      "        \"xMin\": 0.4547792375087738, \n",
      "        \"yMax\": 0.4876250922679901, \n",
      "        \"yMin\": 0.2419789731502533\n",
      "      }, \n",
      "      \"class\": \"Fashion accessory\", \n",
      "      \"label\": \"Fashion accessory\", \n",
      "      \"score\": 0.15940585732460022\n",
      "    }\n",
      "  ]\n",
      "}\n"
     ]
    }
   ],
   "source": [
    "!curl -X POST -H \"Content-Type: application/json\" --data \"@sample-requests/request-1.json\" http://localhost:5000/predictions"
   ]
  },
  {
   "cell_type": "code",
   "execution_count": 4,
   "metadata": {},
   "outputs": [
    {
     "name": "stdout",
     "output_type": "stream",
     "text": [
      "{'box': {'xMax': 0.7926251292228699,\n",
      "         'xMin': 0.5403242707252502,\n",
      "         'yMax': 0.7079343199729919,\n",
      "         'yMin': 0.4101075530052185},\n",
      " 'class': 'Human face',\n",
      " 'label': 'Human face',\n",
      " 'score': 0.7813596725463867}\n",
      "{'box': {'xMax': 0.8367412090301514,\n",
      "         'xMin': 0.4547792375087738,\n",
      "         'yMax': 0.4876250922679901,\n",
      "         'yMin': 0.2419789731502533},\n",
      " 'class': 'Fashion accessory',\n",
      " 'label': 'Fashion accessory',\n",
      " 'score': 0.15940585732460022}\n"
     ]
    }
   ],
   "source": [
    "import requests\n",
    "import json\n",
    "import pprint\n",
    "\n",
    "with open (\"sample-requests/request-1.json\", \"r\") as f:\n",
    "  data = json.load(f)\n",
    "    \n",
    "pp = pprint.PrettyPrinter(width=41, compact=True)  \n",
    "response = requests.post('http://127.0.0.1:5000/predictions', json.dumps(data))\n",
    "\n",
    "pp = pprint.PrettyPrinter(width=41, compact=True)\n",
    "last = len(response.json()['detections'])\n",
    "pp.pprint(response.json()['detections'][0])\n",
    "pp.pprint(response.json()['detections'][last-1])"
   ]
  },
  {
   "cell_type": "code",
   "execution_count": null,
   "metadata": {},
   "outputs": [],
   "source": []
  }
 ],
 "metadata": {
  "accelerator": "GPU",
  "colab": {
   "collapsed_sections": [],
   "name": "Object detection",
   "private_outputs": true,
   "provenance": [],
   "toc_visible": true
  },
  "kernelspec": {
   "display_name": "Python 3",
   "language": "python",
   "name": "python3"
  },
  "language_info": {
   "codemirror_mode": {
    "name": "ipython",
    "version": 3
   },
   "file_extension": ".py",
   "mimetype": "text/x-python",
   "name": "python",
   "nbconvert_exporter": "python",
   "pygments_lexer": "ipython3",
   "version": "3.8.3"
  }
 },
 "nbformat": 4,
 "nbformat_minor": 4
}
